{
  "nbformat": 4,
  "nbformat_minor": 0,
  "metadata": {
    "colab": {
      "provenance": [],
      "authorship_tag": "ABX9TyNi4iNKjvZ/P6TR17O1k6Sc"
    },
    "kernelspec": {
      "name": "python3",
      "display_name": "Python 3"
    },
    "language_info": {
      "name": "python"
    }
  },
  "cells": [
    {
      "cell_type": "code",
      "execution_count": 4,
      "metadata": {
        "colab": {
          "base_uri": "https://localhost:8080/"
        },
        "id": "n0AblOvk3ih1",
        "outputId": "2a2bb4fa-eb5d-40cc-e884-05d5809e8a0f"
      },
      "outputs": [
        {
          "output_type": "stream",
          "name": "stdout",
          "text": [
            "['Lamar', 'Jackson', 'left', 'end', 'for', '10', 'yards']\n",
            "['Lamar Jackson in at QB', ' Mark Ingram up the middle for 5 yards.']\n",
            "['Lamar', 'Jackson', 'in', 'at', 'QB,', 'Mark', 'Ingram', 'up', 'the', 'middle', 'for', '5', 'yards.']\n"
          ]
        }
      ],
      "source": [
        "our_string = 'Lamar Jackson left end for 10 yards'\n",
        "print(our_string.split(' '))\n",
        "\n",
        "our_string_2 = 'Lamar Jackson in at QB, Mark Ingram up the middle for 5 yards.'\n",
        "print(our_string_2.split(','))\n",
        "\n",
        "our_string_3 = 'Lamar Jackson in at QB, Mark Ingram up the middle for 5 yards.'\n",
        "print(our_string_3.split())"
      ]
    },
    {
      "cell_type": "code",
      "source": [
        "#format\n",
        "\n",
        "first_name = 'Dak'\n",
        "last_name = 'Prescott'\n",
        "\n",
        "our_string = '{} {} left end for 10 yards'.format(first_name, last_name)\n",
        "print(our_string)\n",
        "our_string = '{0} {1} left end for 10 yards'.format(first_name, last_name)\n",
        "print(our_string)\n",
        "our_string = '{first_name} {last_name} left end for 10 yards'.format(first_name=first_name, last_name=last_name)\n",
        "print(our_string)"
      ],
      "metadata": {
        "colab": {
          "base_uri": "https://localhost:8080/"
        },
        "id": "EYjGp7gI5U-O",
        "outputId": "e628edfa-8b05-4387-9569-2dd5f14effac"
      },
      "execution_count": 5,
      "outputs": [
        {
          "output_type": "stream",
          "name": "stdout",
          "text": [
            "Dak Prescott left end for 10 yards\n",
            "Dak Prescott left end for 10 yards\n",
            "Dak Prescott left end for 10 yards\n"
          ]
        }
      ]
    },
    {
      "cell_type": "code",
      "source": [
        "#f-strings\n",
        "\n",
        "first_name = 'Dak'\n",
        "last_name = 'Prescott'\n",
        "\n",
        "print(f'{first_name} {last_name} left end for 10 yards')"
      ],
      "metadata": {
        "colab": {
          "base_uri": "https://localhost:8080/"
        },
        "id": "X5HCxKLm66R6",
        "outputId": "0a3fb7e3-5dce-4552-ac72-8d71d2c2c7c9"
      },
      "execution_count": 6,
      "outputs": [
        {
          "output_type": "stream",
          "name": "stdout",
          "text": [
            "Dak Prescott left end for 10 yards\n"
          ]
        }
      ]
    },
    {
      "cell_type": "code",
      "source": [
        "# dictionary methods\n",
        "\n",
        "fantasy_data = {\n",
        "    'player_name': 'Kenneth Walker',\n",
        "    'rushing_yards': 1050\n",
        "}\n",
        "\n",
        "#append a new kv pair to our dictionary\n",
        "fantasy_data['rushing_touchdowns'] = 9\n",
        "\n",
        "print(fantasy_data)\n",
        "\n",
        "# get dict elements\n",
        "player = {\n",
        "    'name': 'Justin Jefferson',\n",
        "    'catches': 128\n",
        "}\n",
        "\n",
        "yds = player.get('yds', 0)\n",
        "catches = player.get('catches', 0)\n",
        "\n",
        "print(yds, catches)"
      ],
      "metadata": {
        "colab": {
          "base_uri": "https://localhost:8080/"
        },
        "id": "AUBKsNXg7Xfn",
        "outputId": "ae563bd3-6d1f-4f45-e8aa-5d870550cda5"
      },
      "execution_count": 8,
      "outputs": [
        {
          "output_type": "stream",
          "name": "stdout",
          "text": [
            "{'player_name': 'Kenneth Walker', 'rushing_yards': 1050, 'rushing_touchdowns': 9}\n",
            "0 128\n"
          ]
        }
      ]
    },
    {
      "cell_type": "code",
      "source": [
        "# items\n",
        "\n",
        "player = {\n",
        "    'name': 'Justin Jefferson',\n",
        "    'catches': 128\n",
        "}\n",
        "\n",
        "for k, v in player.items():\n",
        "  print('{0}: {1}'.format(k, v))\n",
        "\n",
        "print(player.items())"
      ],
      "metadata": {
        "colab": {
          "base_uri": "https://localhost:8080/"
        },
        "id": "2GWjyBb9hcy1",
        "outputId": "58409cf2-0bdb-47f5-9a41-96abc5dae293"
      },
      "execution_count": 5,
      "outputs": [
        {
          "output_type": "stream",
          "name": "stdout",
          "text": [
            "name: Justin Jefferson\n",
            "catches: 128\n",
            "dict_items([('name', 'Justin Jefferson'), ('catches', 128)])\n"
          ]
        }
      ]
    },
    {
      "cell_type": "code",
      "source": [
        "# range\n",
        "\n",
        "redzone_yardlines = []\n",
        "\n",
        "for yardline in range(1, 21):\n",
        "  redzone_yardlines.append(yardline)\n",
        "\n",
        "print(redzone_yardlines)\n",
        "\n",
        "# append\n",
        "\n",
        "redzone_yardlines = [yardline for yardline in range(1, 21)]\n",
        "print(redzone_yardlines)\n",
        "\n",
        "players = [{\n",
        "    'name': 'Justin Jefferson',\n",
        "    'catches': 128,\n",
        "    'yds': 1809,\n",
        "    'td': 8\n",
        "}, {\n",
        "    'name': 'Tyreek Hill',\n",
        "    'catches': 119,\n",
        "    'yds': 1553,\n",
        "    'td': 11\n",
        "}]\n",
        "\n",
        "fantasy_points = []\n",
        "for player in players:\n",
        "  points_scored = player.get('catches', 0) + player.get('yds')*0.1 + player.get('td')*6\n",
        "  fantasy_points.append(points_scored)\n",
        "\n",
        "print(sum(fantasy_points)/len(fantasy_points))"
      ],
      "metadata": {
        "colab": {
          "base_uri": "https://localhost:8080/"
        },
        "id": "GztE7I30iMrC",
        "outputId": "c41b8e93-218b-4700-b2a4-7127f0d80cd0"
      },
      "execution_count": 10,
      "outputs": [
        {
          "output_type": "stream",
          "name": "stdout",
          "text": [
            "[1, 2, 3, 4, 5, 6, 7, 8, 9, 10, 11, 12, 13, 14, 15, 16, 17, 18, 19, 20]\n",
            "[1, 2, 3, 4, 5, 6, 7, 8, 9, 10, 11, 12, 13, 14, 15, 16, 17, 18, 19, 20]\n",
            "348.6\n"
          ]
        }
      ]
    },
    {
      "cell_type": "code",
      "source": [
        "# When we start using functions and start \"mapping\" over our\n",
        "# original iterable to return a mutated iterable is when we will start\n",
        "# doing some really useful operations.\n",
        "\n",
        "players = [{\n",
        "    'name': 'Justin Jefferson',\n",
        "    'catches': 128,\n",
        "    'yds': 1809,\n",
        "    'td': 8\n",
        "}, {\n",
        "    'name': 'Tyreek Hill',\n",
        "    'catches': 119,\n",
        "    'yds': 1553,\n",
        "    'td': 11\n",
        "}]\n",
        "\n",
        "def calc_fantasy_points(player):\n",
        "  return player.get('catches', 0) + player.get('yds', 0)*0.1 + player.get('td', 0)*6\n",
        "\n",
        "fantasy_points = [calc_fantasy_points(player) for player in players]\n",
        "print(sum(fantasy_points)/len(fantasy_points))\n",
        "\n",
        "# anonymous functions\n",
        "\n",
        "catches = [10, 15,34, 23]\n",
        "\n",
        "def divide_by_two(x):\n",
        "  return x/2\n",
        "\n",
        "half_ppr_values = map(divide_by_two, catches)\n",
        "half_ppr_values = list(half_ppr_values)\n",
        "\n",
        "print(half_ppr_values)\n",
        "\n",
        "\n",
        "# zip\n",
        "\n",
        "# zip\n",
        "\n",
        "half_ppr_values = map(divide_by_two, catches)\n",
        "receptions = [85, 107, 69]\n",
        "\n",
        "print(zip(half_ppr_values, receptions))"
      ],
      "metadata": {
        "colab": {
          "base_uri": "https://localhost:8080/"
        },
        "id": "cNV6tWHEp4AF",
        "outputId": "e8128aa1-d601-46c9-aa17-661dce1dfe7f"
      },
      "execution_count": 1,
      "outputs": [
        {
          "output_type": "stream",
          "name": "stdout",
          "text": [
            "348.6\n",
            "[5.0, 7.5, 17.0, 11.5]\n",
            "<zip object at 0x7f9366dd92c0>\n"
          ]
        }
      ]
    },
    {
      "cell_type": "code",
      "source": [
        "i = 0\n",
        "while i <= 6:\n",
        "  print(i)\n",
        "  i = i + 1"
      ],
      "metadata": {
        "colab": {
          "base_uri": "https://localhost:8080/"
        },
        "id": "RuXr-aEVuK55",
        "outputId": "aace1b26-2544-4ba0-a041-6ff3ff2ff5cb"
      },
      "execution_count": 1,
      "outputs": [
        {
          "output_type": "stream",
          "name": "stdout",
          "text": [
            "0\n",
            "1\n",
            "2\n",
            "3\n",
            "4\n",
            "5\n",
            "6\n"
          ]
        }
      ]
    },
    {
      "cell_type": "code",
      "source": [
        "# zip\n",
        "\n",
        "player_names = ['Christian McCaffrey', 'Austin Ekeler', 'Rhamondre Stevenson']\n",
        "receptions = [85, 107, 69]\n",
        "\n",
        "print(zip(player_names, receptions))\n",
        "\n",
        "# zip and dict\n",
        "\n",
        "player_names = ['Christian McCaffrey', 'Austin Ekeler', 'Rhamondre Stevenson']\n",
        "receptions = [85, 107, 69]\n",
        "\n",
        "player_receptions = dict(zip(player_names, receptions))\n",
        "\n",
        "print(player_receptions)\n"
      ],
      "metadata": {
        "colab": {
          "base_uri": "https://localhost:8080/"
        },
        "id": "lIIVskNw5QSv",
        "outputId": "d56a0ff9-1aad-4c37-a3b1-efbe4010773a"
      },
      "execution_count": 3,
      "outputs": [
        {
          "output_type": "stream",
          "name": "stdout",
          "text": [
            "<zip object at 0x7f936c18c2c0>\n",
            "{'Christian McCaffrey': 85, 'Austin Ekeler': 107, 'Rhamondre Stevenson': 69}\n"
          ]
        }
      ]
    }
  ]
}